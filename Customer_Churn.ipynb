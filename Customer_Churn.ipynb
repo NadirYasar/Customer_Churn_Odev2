{
  "nbformat": 4,
  "nbformat_minor": 0,
  "metadata": {
    "colab": {
      "provenance": [],
      "authorship_tag": "ABX9TyMGeiUBM/g+4gv6d88dbKrN",
      "include_colab_link": true
    },
    "kernelspec": {
      "name": "python3",
      "display_name": "Python 3"
    },
    "language_info": {
      "name": "python"
    }
  },
  "cells": [
    {
      "cell_type": "markdown",
      "metadata": {
        "id": "view-in-github",
        "colab_type": "text"
      },
      "source": [
        "<a href=\"https://colab.research.google.com/github/NadirYasar/Customer_Churn_Odev2/blob/main/Customer_Churn.ipynb\" target=\"_parent\"><img src=\"https://colab.research.google.com/assets/colab-badge.svg\" alt=\"Open In Colab\"/></a>"
      ]
    },
    {
      "cell_type": "code",
      "execution_count": 2,
      "metadata": {
        "colab": {
          "base_uri": "https://localhost:8080/"
        },
        "id": "0CEHcCW1TKTF",
        "outputId": "542317e3-0cbb-41d6-cde6-5154b4b7cbb1"
      },
      "outputs": [
        {
          "output_type": "stream",
          "name": "stdout",
          "text": [
            "Requirement already satisfied: pyspark in /usr/local/lib/python3.11/dist-packages (3.5.4)\n",
            "Requirement already satisfied: py4j==0.10.9.7 in /usr/local/lib/python3.11/dist-packages (from pyspark) (0.10.9.7)\n"
          ]
        }
      ],
      "source": [
        "!pip install pyspark\n"
      ]
    },
    {
      "cell_type": "code",
      "source": [
        "from pyspark.sql import SparkSession"
      ],
      "metadata": {
        "id": "bnXk6eBHTRut"
      },
      "execution_count": 3,
      "outputs": []
    },
    {
      "cell_type": "code",
      "source": [
        "spark = SparkSession.builder.appName('CustomerChurn').getOrCreate()"
      ],
      "metadata": {
        "id": "TjeUfpR2Tf-4"
      },
      "execution_count": 4,
      "outputs": []
    },
    {
      "cell_type": "code",
      "source": [
        "data = spark.read.csv('/content/customer_churn.csv',inferSchema=True,header=True)\n",
        "data.show()"
      ],
      "metadata": {
        "colab": {
          "base_uri": "https://localhost:8080/"
        },
        "id": "hZmj3yF_T9wZ",
        "outputId": "d7ef7460-6003-4d8c-e70f-6c6e386c15a5"
      },
      "execution_count": 5,
      "outputs": [
        {
          "output_type": "stream",
          "name": "stdout",
          "text": [
            "+-------------------+----+--------------+---------------+-----+---------+-------------------+--------------------+--------------------+-----+\n",
            "|              Names| Age|Total_Purchase|Account_Manager|Years|Num_Sites|       Onboard_date|            Location|             Company|Churn|\n",
            "+-------------------+----+--------------+---------------+-----+---------+-------------------+--------------------+--------------------+-----+\n",
            "|   Cameron Williams|42.0|       11066.8|              0| 7.22|      8.0|2013-08-30 07:00:40|10265 Elizabeth M...|          Harvey LLC|    1|\n",
            "|      Kevin Mueller|41.0|      11916.22|              0|  6.5|     11.0|2013-08-13 00:38:46|6157 Frank Garden...|          Wilson PLC|    1|\n",
            "|        Eric Lozano|38.0|      12884.75|              0| 6.67|     12.0|2016-06-29 06:20:07|1331 Keith Court ...|Miller, Johnson a...|    1|\n",
            "|      Phillip White|42.0|       8010.76|              0| 6.71|     10.0|2014-04-22 12:43:12|13120 Daniel Moun...|           Smith Inc|    1|\n",
            "|     Cynthia Norton|37.0|       9191.58|              0| 5.56|      9.0|2016-01-19 15:31:15|765 Tricia Row Ka...|          Love-Jones|    1|\n",
            "|   Jessica Williams|48.0|      10356.02|              0| 5.12|      8.0|2009-03-03 23:13:37|6187 Olson Mounta...|        Kelly-Warren|    1|\n",
            "|        Eric Butler|44.0|      11331.58|              1| 5.23|     11.0|2016-12-05 03:35:43|4846 Savannah Roa...|   Reynolds-Sheppard|    1|\n",
            "|      Zachary Walsh|32.0|       9885.12|              1| 6.92|      9.0|2006-03-09 14:50:20|25271 Roy Express...|          Singh-Cole|    1|\n",
            "|        Ashlee Carr|43.0|       14062.6|              1| 5.46|     11.0|2011-09-29 05:47:23|3725 Caroline Str...|           Lopez PLC|    1|\n",
            "|     Jennifer Lynch|40.0|       8066.94|              1| 7.11|     11.0|2006-03-28 15:42:45|363 Sandra Lodge ...|       Reed-Martinez|    1|\n",
            "|       Paula Harris|30.0|      11575.37|              1| 5.22|      8.0|2016-11-13 13:13:01|Unit 8120 Box 916...|Briggs, Lamb and ...|    1|\n",
            "|     Bruce Phillips|45.0|       8771.02|              1| 6.64|     11.0|2015-05-28 12:14:03|Unit 1895 Box 094...|    Figueroa-Maynard|    1|\n",
            "|       Craig Garner|45.0|       8988.67|              1| 4.84|     11.0|2011-02-16 08:10:47|897 Kelley Overpa...|     Abbott-Thompson|    1|\n",
            "|       Nicole Olson|40.0|       8283.32|              1|  5.1|     13.0|2012-11-22 05:35:03|11488 Weaver Cape...|Smith, Kim and Ma...|    1|\n",
            "|     Harold Griffin|41.0|       6569.87|              1|  4.3|     11.0|2015-03-28 02:13:44|1774 Peter Row Ap...|Snyder, Lee and M...|    1|\n",
            "|       James Wright|38.0|      10494.82|              1| 6.81|     12.0|2015-07-22 08:38:40|45408 David Path ...|      Sanders-Pierce|    1|\n",
            "|      Doris Wilkins|45.0|       8213.41|              1| 7.35|     11.0|2006-09-03 06:13:55|28216 Wright Moun...|Andrews, Adams an...|    1|\n",
            "|Katherine Carpenter|43.0|      11226.88|              0| 8.08|     12.0|2006-10-22 04:42:38|Unit 4948 Box 481...|Morgan, Phillips ...|    1|\n",
            "|     Lindsay Martin|53.0|       5515.09|              0| 6.85|      8.0|2015-10-07 00:27:10|69203 Crosby Divi...|      Villanueva LLC|    1|\n",
            "|        Kathy Curry|46.0|        8046.4|              1| 5.69|      8.0|2014-11-06 23:47:14|9569 Caldwell Cre...|Berry, Orr and Ca...|    1|\n",
            "+-------------------+----+--------------+---------------+-----+---------+-------------------+--------------------+--------------------+-----+\n",
            "only showing top 20 rows\n",
            "\n"
          ]
        }
      ]
    },
    {
      "cell_type": "code",
      "source": [
        "data.columns"
      ],
      "metadata": {
        "colab": {
          "base_uri": "https://localhost:8080/"
        },
        "id": "USbwXafRZbsV",
        "outputId": "bd1fa1b9-2c2b-4988-b083-aab0ef07590e"
      },
      "execution_count": 6,
      "outputs": [
        {
          "output_type": "execute_result",
          "data": {
            "text/plain": [
              "['Names',\n",
              " 'Age',\n",
              " 'Total_Purchase',\n",
              " 'Account_Manager',\n",
              " 'Years',\n",
              " 'Num_Sites',\n",
              " 'Onboard_date',\n",
              " 'Location',\n",
              " 'Company',\n",
              " 'Churn']"
            ]
          },
          "metadata": {},
          "execution_count": 6
        }
      ]
    },
    {
      "cell_type": "code",
      "source": [
        "data.dtypes"
      ],
      "metadata": {
        "colab": {
          "base_uri": "https://localhost:8080/"
        },
        "id": "Ft5N_JCwaPWF",
        "outputId": "218e39f2-d25d-4ea8-dbe8-f84cc47c2d23"
      },
      "execution_count": 7,
      "outputs": [
        {
          "output_type": "execute_result",
          "data": {
            "text/plain": [
              "[('Names', 'string'),\n",
              " ('Age', 'double'),\n",
              " ('Total_Purchase', 'double'),\n",
              " ('Account_Manager', 'int'),\n",
              " ('Years', 'double'),\n",
              " ('Num_Sites', 'double'),\n",
              " ('Onboard_date', 'timestamp'),\n",
              " ('Location', 'string'),\n",
              " ('Company', 'string'),\n",
              " ('Churn', 'int')]"
            ]
          },
          "metadata": {},
          "execution_count": 7
        }
      ]
    },
    {
      "cell_type": "code",
      "source": [
        "data.describe().show()"
      ],
      "metadata": {
        "colab": {
          "base_uri": "https://localhost:8080/"
        },
        "id": "72gOudYVaUt8",
        "outputId": "82fe9946-d8c9-4fc8-db09-84fd81df0c83"
      },
      "execution_count": 8,
      "outputs": [
        {
          "output_type": "stream",
          "name": "stdout",
          "text": [
            "+-------+-------------+-----------------+-----------------+------------------+-----------------+------------------+--------------------+--------------------+-------------------+\n",
            "|summary|        Names|              Age|   Total_Purchase|   Account_Manager|            Years|         Num_Sites|            Location|             Company|              Churn|\n",
            "+-------+-------------+-----------------+-----------------+------------------+-----------------+------------------+--------------------+--------------------+-------------------+\n",
            "|  count|          900|              900|              900|               900|              900|               900|                 900|                 900|                900|\n",
            "|   mean|         NULL|41.81666666666667|10062.82403333334|0.4811111111111111| 5.27315555555555| 8.587777777777777|                NULL|                NULL|0.16666666666666666|\n",
            "| stddev|         NULL|6.127560416916251|2408.644531858096|0.4999208935073339|1.274449013194616|1.7648355920350969|                NULL|                NULL| 0.3728852122772358|\n",
            "|    min|   Aaron King|             22.0|            100.0|                 0|              1.0|               3.0|00103 Jeffrey Cre...|     Abbott-Thompson|                  0|\n",
            "|    max|Zachary Walsh|             65.0|         18026.01|                 1|             9.15|              14.0|Unit 9800 Box 287...|Zuniga, Clark and...|                  1|\n",
            "+-------+-------------+-----------------+-----------------+------------------+-----------------+------------------+--------------------+--------------------+-------------------+\n",
            "\n"
          ]
        }
      ]
    },
    {
      "cell_type": "code",
      "source": [
        "from pyspark.sql.functions import unix_timestamp, current_date, to_date\n",
        "\n",
        "data = data.withColumn(\"Onboard_date\", to_date(\"Onboard_date\", \"yyyy-MM-dd HH:mm:ss\"))\n",
        "\n",
        "data = data.withColumn(\n",
        "    \"Days_onboard\",\n",
        "    (unix_timestamp(current_date()) - unix_timestamp(\"Onboard_date\")) / (60 * 60 * 24)\n",
        ")\n",
        "data.drop(\"Names\",\"Location\",\"Onboard_date\",\"Company\")\n",
        "data.show()"
      ],
      "metadata": {
        "colab": {
          "base_uri": "https://localhost:8080/"
        },
        "id": "VRiargqiab1c",
        "outputId": "f2c6e6cd-a39e-46f4-de88-406414a7165d"
      },
      "execution_count": 33,
      "outputs": [
        {
          "output_type": "stream",
          "name": "stdout",
          "text": [
            "+-------------------+----+--------------+---------------+-----+---------+------------+--------------------+--------------------+-----+------------+--------------------+\n",
            "|              Names| Age|Total_Purchase|Account_Manager|Years|Num_Sites|Onboard_date|            Location|             Company|Churn|Days_onboard|            features|\n",
            "+-------------------+----+--------------+---------------+-----+---------+------------+--------------------+--------------------+-----+------------+--------------------+\n",
            "|   Cameron Williams|42.0|       11066.8|              0| 7.22|      8.0|  2013-08-30|10265 Elizabeth M...|          Harvey LLC|    1|      4155.0|[42.0,11066.8,7.2...|\n",
            "|      Kevin Mueller|41.0|      11916.22|              0|  6.5|     11.0|  2013-08-13|6157 Frank Garden...|          Wilson PLC|    1|      4172.0|[41.0,11916.22,6....|\n",
            "|        Eric Lozano|38.0|      12884.75|              0| 6.67|     12.0|  2016-06-29|1331 Keith Court ...|Miller, Johnson a...|    1|      3121.0|[38.0,12884.75,6....|\n",
            "|      Phillip White|42.0|       8010.76|              0| 6.71|     10.0|  2014-04-22|13120 Daniel Moun...|           Smith Inc|    1|      3920.0|[42.0,8010.76,6.7...|\n",
            "|     Cynthia Norton|37.0|       9191.58|              0| 5.56|      9.0|  2016-01-19|765 Tricia Row Ka...|          Love-Jones|    1|      3283.0|[37.0,9191.58,5.5...|\n",
            "|   Jessica Williams|48.0|      10356.02|              0| 5.12|      8.0|  2009-03-03|6187 Olson Mounta...|        Kelly-Warren|    1|      5796.0|[48.0,10356.02,5....|\n",
            "|        Eric Butler|44.0|      11331.58|              1| 5.23|     11.0|  2016-12-05|4846 Savannah Roa...|   Reynolds-Sheppard|    1|      2962.0|[44.0,11331.58,5....|\n",
            "|      Zachary Walsh|32.0|       9885.12|              1| 6.92|      9.0|  2006-03-09|25271 Roy Express...|          Singh-Cole|    1|      6886.0|[32.0,9885.12,6.9...|\n",
            "|        Ashlee Carr|43.0|       14062.6|              1| 5.46|     11.0|  2011-09-29|3725 Caroline Str...|           Lopez PLC|    1|      4856.0|[43.0,14062.6,5.4...|\n",
            "|     Jennifer Lynch|40.0|       8066.94|              1| 7.11|     11.0|  2006-03-28|363 Sandra Lodge ...|       Reed-Martinez|    1|      6867.0|[40.0,8066.94,7.1...|\n",
            "|       Paula Harris|30.0|      11575.37|              1| 5.22|      8.0|  2016-11-13|Unit 8120 Box 916...|Briggs, Lamb and ...|    1|      2984.0|[30.0,11575.37,5....|\n",
            "|     Bruce Phillips|45.0|       8771.02|              1| 6.64|     11.0|  2015-05-28|Unit 1895 Box 094...|    Figueroa-Maynard|    1|      3519.0|[45.0,8771.02,6.6...|\n",
            "|       Craig Garner|45.0|       8988.67|              1| 4.84|     11.0|  2011-02-16|897 Kelley Overpa...|     Abbott-Thompson|    1|      5081.0|[45.0,8988.67,4.8...|\n",
            "|       Nicole Olson|40.0|       8283.32|              1|  5.1|     13.0|  2012-11-22|11488 Weaver Cape...|Smith, Kim and Ma...|    1|      4436.0|[40.0,8283.32,5.1...|\n",
            "|     Harold Griffin|41.0|       6569.87|              1|  4.3|     11.0|  2015-03-28|1774 Peter Row Ap...|Snyder, Lee and M...|    1|      3580.0|[41.0,6569.87,4.3...|\n",
            "|       James Wright|38.0|      10494.82|              1| 6.81|     12.0|  2015-07-22|45408 David Path ...|      Sanders-Pierce|    1|      3464.0|[38.0,10494.82,6....|\n",
            "|      Doris Wilkins|45.0|       8213.41|              1| 7.35|     11.0|  2006-09-03|28216 Wright Moun...|Andrews, Adams an...|    1|      6708.0|[45.0,8213.41,7.3...|\n",
            "|Katherine Carpenter|43.0|      11226.88|              0| 8.08|     12.0|  2006-10-22|Unit 4948 Box 481...|Morgan, Phillips ...|    1|      6659.0|[43.0,11226.88,8....|\n",
            "|     Lindsay Martin|53.0|       5515.09|              0| 6.85|      8.0|  2015-10-07|69203 Crosby Divi...|      Villanueva LLC|    1|      3387.0|[53.0,5515.09,6.8...|\n",
            "|        Kathy Curry|46.0|        8046.4|              1| 5.69|      8.0|  2014-11-06|9569 Caldwell Cre...|Berry, Orr and Ca...|    1|      3722.0|[46.0,8046.4,5.69...|\n",
            "+-------------------+----+--------------+---------------+-----+---------+------------+--------------------+--------------------+-----+------------+--------------------+\n",
            "only showing top 20 rows\n",
            "\n"
          ]
        }
      ]
    },
    {
      "cell_type": "code",
      "source": [
        "data.select('Onboard_date').show()"
      ],
      "metadata": {
        "colab": {
          "base_uri": "https://localhost:8080/"
        },
        "collapsed": true,
        "id": "W4U6FJgkgTwP",
        "outputId": "ab83b53b-3002-4cc4-85c5-7655310c75c1"
      },
      "execution_count": 10,
      "outputs": [
        {
          "output_type": "stream",
          "name": "stdout",
          "text": [
            "+------------+\n",
            "|Onboard_date|\n",
            "+------------+\n",
            "|  2013-08-30|\n",
            "|  2013-08-13|\n",
            "|  2016-06-29|\n",
            "|  2014-04-22|\n",
            "|  2016-01-19|\n",
            "|  2009-03-03|\n",
            "|  2016-12-05|\n",
            "|  2006-03-09|\n",
            "|  2011-09-29|\n",
            "|  2006-03-28|\n",
            "|  2016-11-13|\n",
            "|  2015-05-28|\n",
            "|  2011-02-16|\n",
            "|  2012-11-22|\n",
            "|  2015-03-28|\n",
            "|  2015-07-22|\n",
            "|  2006-09-03|\n",
            "|  2006-10-22|\n",
            "|  2015-10-07|\n",
            "|  2014-11-06|\n",
            "+------------+\n",
            "only showing top 20 rows\n",
            "\n"
          ]
        }
      ]
    },
    {
      "cell_type": "code",
      "source": [
        "from pyspark.ml.feature import VectorAssembler\n",
        "feature_cols= [\"Age\", \"Total_Purchase\", \"Years\", \"Num_Sites\", \"Days_onboard\",\"Account_Manager\"]\n",
        "assembler = VectorAssembler(inputCols = feature_cols, outputCol= 'features1')\n",
        "output = assembler.transform(data)\n",
        "data = data.withColumnRenamed(\"features\", \"features1\")\n",
        "final_data = output.select(\"features1\",\"Churn\")\n",
        "final_data.show()"
      ],
      "metadata": {
        "colab": {
          "base_uri": "https://localhost:8080/"
        },
        "id": "-tGGw5jShcQt",
        "outputId": "89f4c5ad-fcb5-434f-f538-edac60063420"
      },
      "execution_count": 11,
      "outputs": [
        {
          "output_type": "stream",
          "name": "stdout",
          "text": [
            "+--------------------+-----+\n",
            "|           features1|Churn|\n",
            "+--------------------+-----+\n",
            "|[42.0,11066.8,7.2...|    1|\n",
            "|[41.0,11916.22,6....|    1|\n",
            "|[38.0,12884.75,6....|    1|\n",
            "|[42.0,8010.76,6.7...|    1|\n",
            "|[37.0,9191.58,5.5...|    1|\n",
            "|[48.0,10356.02,5....|    1|\n",
            "|[44.0,11331.58,5....|    1|\n",
            "|[32.0,9885.12,6.9...|    1|\n",
            "|[43.0,14062.6,5.4...|    1|\n",
            "|[40.0,8066.94,7.1...|    1|\n",
            "|[30.0,11575.37,5....|    1|\n",
            "|[45.0,8771.02,6.6...|    1|\n",
            "|[45.0,8988.67,4.8...|    1|\n",
            "|[40.0,8283.32,5.1...|    1|\n",
            "|[41.0,6569.87,4.3...|    1|\n",
            "|[38.0,10494.82,6....|    1|\n",
            "|[45.0,8213.41,7.3...|    1|\n",
            "|[43.0,11226.88,8....|    1|\n",
            "|[53.0,5515.09,6.8...|    1|\n",
            "|[46.0,8046.4,5.69...|    1|\n",
            "+--------------------+-----+\n",
            "only showing top 20 rows\n",
            "\n"
          ]
        }
      ]
    },
    {
      "cell_type": "code",
      "source": [
        "train_data, test_data = final_data.randomSplit([0.8,0.2])"
      ],
      "metadata": {
        "id": "Cjp_bVTCj_HT"
      },
      "execution_count": 12,
      "outputs": []
    },
    {
      "cell_type": "code",
      "source": [
        "from pyspark.ml.classification import LogisticRegression\n",
        "\n",
        "lr = LogisticRegression(featuresCol='features1', labelCol='Churn')\n",
        "lrm= lr.fit(train_data)\n",
        "lrm_summary = lrm.summary\n",
        "lrm.summary.accuracy"
      ],
      "metadata": {
        "colab": {
          "base_uri": "https://localhost:8080/"
        },
        "id": "J6G_unHWn8cd",
        "outputId": "1c9a115e-b745-4ed3-f214-82bd70933a58"
      },
      "execution_count": 13,
      "outputs": [
        {
          "output_type": "execute_result",
          "data": {
            "text/plain": [
              "0.9023383768913342"
            ]
          },
          "metadata": {},
          "execution_count": 13
        }
      ]
    },
    {
      "cell_type": "code",
      "source": [
        "test_data.show()"
      ],
      "metadata": {
        "colab": {
          "base_uri": "https://localhost:8080/"
        },
        "id": "ptgQhLIeLepJ",
        "outputId": "edd93ea4-af46-4004-d9ee-a028f4b1053e"
      },
      "execution_count": 14,
      "outputs": [
        {
          "output_type": "stream",
          "name": "stdout",
          "text": [
            "+--------------------+-----+\n",
            "|           features1|Churn|\n",
            "+--------------------+-----+\n",
            "|[27.0,8628.8,5.3,...|    0|\n",
            "|[28.0,11128.95,5....|    0|\n",
            "|[28.0,11245.38,6....|    0|\n",
            "|[29.0,5900.78,5.5...|    0|\n",
            "|[29.0,8688.17,5.7...|    1|\n",
            "|[29.0,10203.18,5....|    0|\n",
            "|[31.0,10058.87,6....|    0|\n",
            "|[31.0,11297.57,6....|    1|\n",
            "|[31.0,12264.68,5....|    0|\n",
            "|[32.0,12254.75,5....|    0|\n",
            "|[33.0,4711.89,4.9...|    0|\n",
            "|[33.0,10309.71,2....|    0|\n",
            "|[33.0,12115.91,5....|    0|\n",
            "|[33.0,12638.51,5....|    0|\n",
            "|[33.0,14160.05,4....|    0|\n",
            "|[34.0,6461.86,4.6...|    0|\n",
            "|[34.0,8772.26,5.7...|    0|\n",
            "|[34.0,9270.9,6.19...|    0|\n",
            "|[34.0,9779.12,5.8...|    0|\n",
            "|[34.0,10674.92,3....|    0|\n",
            "+--------------------+-----+\n",
            "only showing top 20 rows\n",
            "\n"
          ]
        }
      ]
    },
    {
      "cell_type": "code",
      "source": [
        "lrm.summary.areaUnderROC"
      ],
      "metadata": {
        "colab": {
          "base_uri": "https://localhost:8080/"
        },
        "id": "7qTsRp5tqgd2",
        "outputId": "a7a13fd8-5d43-4528-eac7-34bfd1318a01"
      },
      "execution_count": 15,
      "outputs": [
        {
          "output_type": "execute_result",
          "data": {
            "text/plain": [
              "0.9138399827706906"
            ]
          },
          "metadata": {},
          "execution_count": 15
        }
      ]
    },
    {
      "cell_type": "code",
      "source": [
        "lrm.summary.predictions.show()"
      ],
      "metadata": {
        "colab": {
          "base_uri": "https://localhost:8080/"
        },
        "id": "CWvWEZKas7OU",
        "outputId": "c51028f2-4132-407c-a2e8-c1775c455cc8"
      },
      "execution_count": 16,
      "outputs": [
        {
          "output_type": "stream",
          "name": "stdout",
          "text": [
            "+--------------------+-----+--------------------+--------------------+----------+\n",
            "|           features1|Churn|       rawPrediction|         probability|prediction|\n",
            "+--------------------+-----+--------------------+--------------------+----------+\n",
            "|[22.0,11254.38,4....|  0.0|[5.23831355182825...|[0.99471883578699...|       0.0|\n",
            "|[25.0,9672.03,5.4...|  0.0|[5.02849659941029...|[0.99349395737028...|       0.0|\n",
            "|[26.0,8787.39,5.4...|  1.0|[0.93449961683774...|[0.71798726787696...|       0.0|\n",
            "|[26.0,8939.61,4.5...|  0.0|[6.84769282135851...|[0.99893922357312...|       0.0|\n",
            "|[28.0,8670.98,3.9...|  0.0|[8.27773081249401...|[0.99974595138036...|       0.0|\n",
            "|[28.0,9090.43,5.7...|  0.0|[1.87910749327782...|[0.86750857765854...|       0.0|\n",
            "|[28.0,11204.23,3....|  0.0|[1.97116107709670...|[0.87773576962267...|       0.0|\n",
            "|[29.0,9378.24,4.9...|  0.0|[5.28807721814171...|[0.99497392524389...|       0.0|\n",
            "|[29.0,9617.59,5.4...|  0.0|[4.90695302641085...|[0.99265929802437...|       0.0|\n",
            "|[29.0,11274.46,4....|  0.0|[5.01069524001612...|[0.99337787779580...|       0.0|\n",
            "|[29.0,12711.15,5....|  0.0|[5.89313904896177...|[0.99724928267664...|       0.0|\n",
            "|[29.0,13240.01,4....|  0.0|[7.40521140712936...|[0.99939229397101...|       0.0|\n",
            "|[29.0,13255.05,4....|  0.0|[4.72368110632217...|[0.99119578161859...|       0.0|\n",
            "|[30.0,6744.87,5.1...|  0.0|[3.87348511852692...|[0.97963744987451...|       0.0|\n",
            "|[30.0,7960.64,2.7...|  1.0|[3.45104113344734...|[0.96926217430304...|       0.0|\n",
            "|[30.0,8403.78,4.1...|  0.0|[6.31577069468712...|[0.99819568928437...|       0.0|\n",
            "|[30.0,8677.28,7.3...|  0.0|[4.59486707848793...|[0.98999749725072...|       0.0|\n",
            "|[30.0,8874.83,5.5...|  0.0|[3.34199195804631...|[0.96584162117566...|       0.0|\n",
            "|[30.0,10183.98,5....|  0.0|[3.15035311755566...|[0.95892263336018...|       0.0|\n",
            "|[30.0,10744.14,7....|  1.0|[2.02274304109326...|[0.88316434766743...|       0.0|\n",
            "+--------------------+-----+--------------------+--------------------+----------+\n",
            "only showing top 20 rows\n",
            "\n"
          ]
        }
      ]
    },
    {
      "cell_type": "code",
      "source": [
        "lrm.summary.predictions.describe().show()"
      ],
      "metadata": {
        "colab": {
          "base_uri": "https://localhost:8080/"
        },
        "id": "4jUluUKUtsaN",
        "outputId": "579e8064-e67e-4760-b924-551b91733024"
      },
      "execution_count": 17,
      "outputs": [
        {
          "output_type": "stream",
          "name": "stdout",
          "text": [
            "+-------+-------------------+-------------------+\n",
            "|summary|              Churn|         prediction|\n",
            "+-------+-------------------+-------------------+\n",
            "|  count|                727|                727|\n",
            "|   mean|0.16918844566712518|0.12379642365887207|\n",
            "| stddev|0.37517639778255024| 0.3295759063688022|\n",
            "|    min|                0.0|                0.0|\n",
            "|    max|                1.0|                1.0|\n",
            "+-------+-------------------+-------------------+\n",
            "\n"
          ]
        }
      ]
    },
    {
      "cell_type": "code",
      "source": [
        "from pyspark.ml.evaluation import BinaryClassificationEvaluator\n",
        "\n",
        "prediction_test = lrm.evaluate(test_data)\n",
        "prediction_test.predictions.show()"
      ],
      "metadata": {
        "colab": {
          "base_uri": "https://localhost:8080/"
        },
        "id": "h55W6PPDvTbJ",
        "outputId": "83bd6468-5bd4-472a-9172-89fd3fe482a7"
      },
      "execution_count": 18,
      "outputs": [
        {
          "output_type": "stream",
          "name": "stdout",
          "text": [
            "+--------------------+-----+--------------------+--------------------+----------+\n",
            "|           features1|Churn|       rawPrediction|         probability|prediction|\n",
            "+--------------------+-----+--------------------+--------------------+----------+\n",
            "|[27.0,8628.8,5.3,...|    0|[6.18475739414894...|[0.99794363594071...|       0.0|\n",
            "|[28.0,11128.95,5....|    0|[4.58816959538044...|[0.98993095762343...|       0.0|\n",
            "|[28.0,11245.38,6....|    0|[4.35343960189524...|[0.98730084822507...|       0.0|\n",
            "|[29.0,5900.78,5.5...|    0|[4.46749434653778...|[0.98865417031458...|       0.0|\n",
            "|[29.0,8688.17,5.7...|    1|[3.16202807888692...|[0.95938005426769...|       0.0|\n",
            "|[29.0,10203.18,5....|    0|[4.30309383081932...|[0.98665388312887...|       0.0|\n",
            "|[31.0,10058.87,6....|    0|[4.98600811238862...|[0.99321348524632...|       0.0|\n",
            "|[31.0,11297.57,6....|    1|[1.29307115298792...|[0.78466656004140...|       0.0|\n",
            "|[31.0,12264.68,5....|    0|[4.01634771214889...|[0.98230027107498...|       0.0|\n",
            "|[32.0,12254.75,5....|    0|[2.94327785214759...|[0.94994481763962...|       0.0|\n",
            "|[33.0,4711.89,4.9...|    0|[6.30369902128013...|[0.99817381625447...|       0.0|\n",
            "|[33.0,10309.71,2....|    0|[6.82841914229942...|[0.99891860253466...|       0.0|\n",
            "|[33.0,12115.91,5....|    0|[2.66753650155478...|[0.93508365176335...|       0.0|\n",
            "|[33.0,12638.51,5....|    0|[4.10328090309128...|[0.98375003216583...|       0.0|\n",
            "|[33.0,14160.05,4....|    0|[5.81075106997404...|[0.99701376467342...|       0.0|\n",
            "|[34.0,6461.86,4.6...|    0|[4.58296827801672...|[0.98987898034142...|       0.0|\n",
            "|[34.0,8772.26,5.7...|    0|[3.10980865925552...|[0.95729553430446...|       0.0|\n",
            "|[34.0,9270.9,6.19...|    0|[5.28902916304724...|[0.99497868350027...|       0.0|\n",
            "|[34.0,9779.12,5.8...|    0|[2.88355420253273...|[0.94702744891384...|       0.0|\n",
            "|[34.0,10674.92,3....|    0|[3.84438834880614...|[0.97904885712036...|       0.0|\n",
            "+--------------------+-----+--------------------+--------------------+----------+\n",
            "only showing top 20 rows\n",
            "\n"
          ]
        }
      ]
    },
    {
      "cell_type": "code",
      "source": [
        "evaluator =BinaryClassificationEvaluator(rawPredictionCol=\"prediction\", labelCol=\"Churn\")\n",
        "auc = evaluator.evaluate(prediction_test.predictions)\n",
        "auc"
      ],
      "metadata": {
        "colab": {
          "base_uri": "https://localhost:8080/"
        },
        "id": "477TAyrwwee6",
        "outputId": "ec1bdf28-0df2-46ed-e1ed-05a8627ec09c"
      },
      "execution_count": 19,
      "outputs": [
        {
          "output_type": "execute_result",
          "data": {
            "text/plain": [
              "0.7874175545408423"
            ]
          },
          "metadata": {},
          "execution_count": 19
        }
      ]
    },
    {
      "cell_type": "code",
      "source": [
        "from pyspark.ml.classification import RandomForestClassifier\n",
        "\n",
        "\n",
        "rf = RandomForestClassifier(labelCol=\"Churn\", featuresCol=\"features1\", numTrees=100, maxDepth=10)\n",
        "\n",
        "\n",
        "rf_model = rf.fit(train_data)\n",
        "\n",
        "rf_predictions = rf_model.transform(test_data)\n",
        "\n",
        "evaluator = BinaryClassificationEvaluator(labelCol=\"Churn\", rawPredictionCol=\"prediction\", metricName=\"areaUnderROC\")\n",
        "auc_rf = evaluator.evaluate(rf_predictions)\n",
        "print(f\"AUC (Random Forest): {auc_rf}\")\n"
      ],
      "metadata": {
        "colab": {
          "base_uri": "https://localhost:8080/"
        },
        "id": "ylVnjuNjxIH3",
        "outputId": "f8331bd4-54cd-4188-9835-c43cbd130c9f"
      },
      "execution_count": 20,
      "outputs": [
        {
          "output_type": "stream",
          "name": "stdout",
          "text": [
            "AUC (Random Forest): 0.7030695078640283\n"
          ]
        }
      ]
    },
    {
      "cell_type": "code",
      "source": [
        "from pyspark.ml.classification import GBTClassifier\n",
        "\n",
        "\n",
        "gbt = GBTClassifier(labelCol=\"Churn\", featuresCol=\"features1\", maxIter=100)\n",
        "gbt_model = gbt.fit(train_data)\n",
        "gbt_predictions = gbt_model.transform(test_data)\n",
        "auc_gbt = evaluator.evaluate(gbt_predictions)\n",
        "print(f\"AUC (Gradient Boosting): {auc_gbt}\")"
      ],
      "metadata": {
        "colab": {
          "base_uri": "https://localhost:8080/"
        },
        "id": "j9WH75Fz1FQ5",
        "outputId": "e7b81bd1-59b2-4cf2-8ac6-c1492bbce66b"
      },
      "execution_count": 21,
      "outputs": [
        {
          "output_type": "stream",
          "name": "stdout",
          "text": [
            "AUC (Gradient Boosting): 0.6763064434297311\n"
          ]
        }
      ]
    },
    {
      "cell_type": "code",
      "source": [
        "from pyspark.ml.classification import LogisticRegression\n",
        "\n",
        "# Logistic Regression modeli\n",
        "lr = LogisticRegression(labelCol=\"Churn\", featuresCol=\"features1\", regParam=0.01, elasticNetParam=0.8)\n",
        "\n",
        "# Modeli eğitme\n",
        "lr_model = lr.fit(train_data)\n",
        "\n",
        "# Modeli test verisiyle değerlendirme\n",
        "lr_predictions = lr_model.transform(test_data)\n",
        "\n",
        "# AUC değerlendirmesi\n",
        "auc_lr = evaluator.evaluate(lr_predictions)\n",
        "print(f\"AUC (Logistic Regression with Regularization): {auc_lr}\")\n"
      ],
      "metadata": {
        "colab": {
          "base_uri": "https://localhost:8080/"
        },
        "id": "5voIm-cZ1qx0",
        "outputId": "998c22ed-3ead-4cb0-831a-1fdfd48b9b92"
      },
      "execution_count": 22,
      "outputs": [
        {
          "output_type": "stream",
          "name": "stdout",
          "text": [
            "AUC (Logistic Regression with Regularization): 0.7874175545408423\n"
          ]
        }
      ]
    },
    {
      "cell_type": "code",
      "source": [
        "data.printSchema()"
      ],
      "metadata": {
        "colab": {
          "base_uri": "https://localhost:8080/"
        },
        "id": "J4kaEN0Q_oC8",
        "outputId": "75d0e5b8-7ad3-431e-8c7f-c7d808090668"
      },
      "execution_count": 23,
      "outputs": [
        {
          "output_type": "stream",
          "name": "stdout",
          "text": [
            "root\n",
            " |-- Names: string (nullable = true)\n",
            " |-- Age: double (nullable = true)\n",
            " |-- Total_Purchase: double (nullable = true)\n",
            " |-- Account_Manager: integer (nullable = true)\n",
            " |-- Years: double (nullable = true)\n",
            " |-- Num_Sites: double (nullable = true)\n",
            " |-- Onboard_date: date (nullable = true)\n",
            " |-- Location: string (nullable = true)\n",
            " |-- Company: string (nullable = true)\n",
            " |-- Churn: integer (nullable = true)\n",
            " |-- Days_onboard: double (nullable = true)\n",
            "\n"
          ]
        }
      ]
    },
    {
      "cell_type": "code",
      "source": [
        "# XGBoost modelinin tahminlerini yapma\n",
        "predictions = rf_model.transform(test_data)\n",
        "\n",
        "# Tahminler ve gerçek değerleri gösterme\n",
        "predictions.select(\"prediction\", \"Churn\", \"features1\").show()\n",
        "\n",
        "# İleri düzey sonuçlar (probability vs rawPrediction)\n",
        "predictions.select(\"prediction\", \"rawPrediction\", \"probability\").show()\n"
      ],
      "metadata": {
        "colab": {
          "base_uri": "https://localhost:8080/"
        },
        "id": "N7sssP6N5uff",
        "outputId": "1fe2dad1-1ee0-4eed-d9d9-23d472e0dd78"
      },
      "execution_count": 26,
      "outputs": [
        {
          "output_type": "stream",
          "name": "stdout",
          "text": [
            "+----------+-----+--------------------+\n",
            "|prediction|Churn|           features1|\n",
            "+----------+-----+--------------------+\n",
            "|       0.0|    0|[27.0,8628.8,5.3,...|\n",
            "|       0.0|    0|[28.0,11128.95,5....|\n",
            "|       0.0|    0|[28.0,11245.38,6....|\n",
            "|       0.0|    0|[29.0,5900.78,5.5...|\n",
            "|       0.0|    1|[29.0,8688.17,5.7...|\n",
            "|       0.0|    0|[29.0,10203.18,5....|\n",
            "|       0.0|    0|[31.0,10058.87,6....|\n",
            "|       0.0|    1|[31.0,11297.57,6....|\n",
            "|       0.0|    0|[31.0,12264.68,5....|\n",
            "|       0.0|    0|[32.0,12254.75,5....|\n",
            "|       0.0|    0|[33.0,4711.89,4.9...|\n",
            "|       0.0|    0|[33.0,10309.71,2....|\n",
            "|       0.0|    0|[33.0,12115.91,5....|\n",
            "|       0.0|    0|[33.0,12638.51,5....|\n",
            "|       0.0|    0|[33.0,14160.05,4....|\n",
            "|       0.0|    0|[34.0,6461.86,4.6...|\n",
            "|       0.0|    0|[34.0,8772.26,5.7...|\n",
            "|       0.0|    0|[34.0,9270.9,6.19...|\n",
            "|       0.0|    0|[34.0,9779.12,5.8...|\n",
            "|       0.0|    0|[34.0,10674.92,3....|\n",
            "+----------+-----+--------------------+\n",
            "only showing top 20 rows\n",
            "\n",
            "+----------+--------------------+--------------------+\n",
            "|prediction|       rawPrediction|         probability|\n",
            "+----------+--------------------+--------------------+\n",
            "|       0.0|[86.9616713395669...|[0.86961671339566...|\n",
            "|       0.0|[89.3316836360498...|[0.89331683636049...|\n",
            "|       0.0|[63.8280141843971...|[0.63828014184397...|\n",
            "|       0.0|[91.7284890248720...|[0.91728489024872...|\n",
            "|       0.0|[75.6698935323431...|[0.75669893532343...|\n",
            "|       0.0|[88.2526623305579...|[0.88252662330557...|\n",
            "|       0.0|[95.3780284347818...|[0.95378028434781...|\n",
            "|       0.0|[85.0034688013136...|[0.85003468801313...|\n",
            "|       0.0|[96.3327006789020...|[0.96332700678902...|\n",
            "|       0.0|[96.9441040579440...|[0.96944104057944...|\n",
            "|       0.0|[99.9656699929424...|[0.99965669992942...|\n",
            "|       0.0|[99.9708620225734...|[0.99970862022573...|\n",
            "|       0.0|[99.3602031623559...|[0.99360203162355...|\n",
            "|       0.0|[98.9221271174555...|[0.98922127117455...|\n",
            "|       0.0|[98.8171245802015...|[0.98817124580201...|\n",
            "|       0.0|[97.8908122895825...|[0.97890812289582...|\n",
            "|       0.0|[95.5374880688401...|[0.95537488068840...|\n",
            "|       0.0|[99.8734050493775...|[0.99873405049377...|\n",
            "|       0.0|[92.3355486683713...|[0.92335548668371...|\n",
            "|       0.0|[98.9791397513912...|[0.98979139751391...|\n",
            "+----------+--------------------+--------------------+\n",
            "only showing top 20 rows\n",
            "\n"
          ]
        }
      ]
    },
    {
      "cell_type": "code",
      "source": [
        "new_customers_data = spark.read.csv('/content/new_customers.csv',inferSchema=True,header=True)\n",
        "new_customers_data.show()"
      ],
      "metadata": {
        "colab": {
          "base_uri": "https://localhost:8080/"
        },
        "id": "IHFCmo4c6wwr",
        "outputId": "e2c60f97-588c-45a0-ac8d-f7a596017d52"
      },
      "execution_count": 28,
      "outputs": [
        {
          "output_type": "stream",
          "name": "stdout",
          "text": [
            "+-----------------+---------------+----------------+---------------+-----+---------+-------------------+--------------------+-------+\n",
            "|            Names|            Age|  Total_Purchase|Account_Manager|Years|Num_Sites|       Onboard_date|            Location|Company|\n",
            "+-----------------+---------------+----------------+---------------+-----+---------+-------------------+--------------------+-------+\n",
            "|    Andrew Mccall|           37.0|         9935.53|              1| 7.71|      8.0|2011-08-29 18:37:54|38612 Johnny Stra...|   NULL|\n",
            "|      Nataliebury| WI 15717-8316\"|        King Ltd|           NULL| NULL|     NULL|               NULL|                NULL|   NULL|\n",
            "|   Michele Wright|           23.0|         7526.94|              1| 9.28|     15.0|2013-07-22 18:19:54|21083 Nicole Junc...|   NULL|\n",
            "|        Youngport| ME 23686-4381\"|   Cannon-Benson|           NULL| NULL|     NULL|               NULL|                NULL|   NULL|\n",
            "|     Jeremy Chang|           65.0|           100.0|              1|  1.0|     15.0|2006-12-11 07:48:13|    085 Austin Views|   NULL|\n",
            "|   Lake Julialand| WY 63726-4298\"|Barron-Robertson|           NULL| NULL|     NULL|               NULL|                NULL|   NULL|\n",
            "|   Megan Ferguson|           32.0|          6487.5|              0|  9.4|     14.0|2016-10-28 05:32:13|   922 Wright Branch|   NULL|\n",
            "|North Cynthialand|      NC 64721\"|   Sexton-Golden|           NULL| NULL|     NULL|               NULL|                NULL|   NULL|\n",
            "|     Taylor Young|           32.0|        13147.71|              1| 10.0|      8.0|2012-03-20 00:36:46|  Unit 0789 Box 0734|   NULL|\n",
            "|    DPO AP 39702\"|       Wood LLC|            NULL|           NULL| NULL|     NULL|               NULL|                NULL|   NULL|\n",
            "|    Jessica Drake|           22.0|         8445.26|              1| 3.46|     14.0|2011-02-04 19:29:27|1148 Tina Straven...|   NULL|\n",
            "|     South Carlos| TX 21222-9221\"|   Parks-Robbins|           NULL| NULL|     NULL|               NULL|                NULL|   NULL|\n",
            "+-----------------+---------------+----------------+---------------+-----+---------+-------------------+--------------------+-------+\n",
            "\n"
          ]
        }
      ]
    },
    {
      "cell_type": "code",
      "source": [
        "new_customers_data.columns"
      ],
      "metadata": {
        "colab": {
          "base_uri": "https://localhost:8080/"
        },
        "id": "37nmQFJp74bN",
        "outputId": "b893f925-d1d6-4c4e-f050-4698fb920b4b"
      },
      "execution_count": 29,
      "outputs": [
        {
          "output_type": "execute_result",
          "data": {
            "text/plain": [
              "['Names',\n",
              " 'Age',\n",
              " 'Total_Purchase',\n",
              " 'Account_Manager',\n",
              " 'Years',\n",
              " 'Num_Sites',\n",
              " 'Onboard_date',\n",
              " 'Location',\n",
              " 'Company']"
            ]
          },
          "metadata": {},
          "execution_count": 29
        }
      ]
    },
    {
      "cell_type": "code",
      "source": [
        "new_customers_data.describe().show()"
      ],
      "metadata": {
        "colab": {
          "base_uri": "https://localhost:8080/"
        },
        "id": "UcVlq3Z_82mR",
        "outputId": "e8c18abe-442d-4072-e789-0c1fca41e310"
      },
      "execution_count": 30,
      "outputs": [
        {
          "output_type": "stream",
          "name": "stdout",
          "text": [
            "+-------+-------------+------------------+-----------------+------------------+-----------------+------------------+------------------+-------+\n",
            "|summary|        Names|               Age|   Total_Purchase|   Account_Manager|            Years|         Num_Sites|          Location|Company|\n",
            "+-------+-------------+------------------+-----------------+------------------+-----------------+------------------+------------------+-------+\n",
            "|  count|           12|                12|               11|                 6|                6|                 6|                 6|      0|\n",
            "|   mean|         NULL|35.166666666666664|7607.156666666667|0.8333333333333334|6.808333333333334|12.333333333333334|              NULL|   NULL|\n",
            "| stddev|         NULL| 15.71517313511584|4346.008232825459| 0.408248290463863|3.708737880555414|3.3862466931200785|              NULL|   NULL|\n",
            "|    min|Andrew Mccall|    ME 23686-4381\"|            100.0|                 0|              1.0|               8.0|  085 Austin Views|   NULL|\n",
            "|    max|    Youngport|          Wood LLC|    Sexton-Golden|                 1|             10.0|              15.0|Unit 0789 Box 0734|   NULL|\n",
            "+-------+-------------+------------------+-----------------+------------------+-----------------+------------------+------------------+-------+\n",
            "\n"
          ]
        }
      ]
    },
    {
      "cell_type": "code",
      "source": [],
      "metadata": {
        "id": "GUkumtbn-KBj"
      },
      "execution_count": null,
      "outputs": []
    },
    {
      "cell_type": "code",
      "source": [
        "new_customers_data.printSchema()"
      ],
      "metadata": {
        "colab": {
          "base_uri": "https://localhost:8080/"
        },
        "id": "XGSZsAOG88HF",
        "outputId": "fe31c9a2-9cd8-4d7c-c766-d8f7ae3c39d4"
      },
      "execution_count": 31,
      "outputs": [
        {
          "output_type": "stream",
          "name": "stdout",
          "text": [
            "root\n",
            " |-- Names: string (nullable = true)\n",
            " |-- Age: string (nullable = true)\n",
            " |-- Total_Purchase: string (nullable = true)\n",
            " |-- Account_Manager: integer (nullable = true)\n",
            " |-- Years: double (nullable = true)\n",
            " |-- Num_Sites: double (nullable = true)\n",
            " |-- Onboard_date: timestamp (nullable = true)\n",
            " |-- Location: string (nullable = true)\n",
            " |-- Company: string (nullable = true)\n",
            "\n"
          ]
        }
      ]
    },
    {
      "cell_type": "code",
      "source": [
        "from pyspark.sql.functions import unix_timestamp, current_date, to_date\n",
        "\n",
        "new_customers_data = data.withColumn(\"Onboard_date\", to_date(\"Onboard_date\", \"yyyy-MM-dd HH:mm:ss\"))\n",
        "\n",
        "new_customers_data = data.withColumn(\n",
        "    \"Days_onboard\",\n",
        "    (unix_timestamp(current_date()) - unix_timestamp(\"Onboard_date\")) / (60 * 60 * 24)\n",
        ")\n",
        "new_customers_data.drop(\"Names\",\"Location\",\"Onboard_date\",\"Company\")\n",
        "new_customers_data.show()"
      ],
      "metadata": {
        "colab": {
          "base_uri": "https://localhost:8080/"
        },
        "id": "lOYKRLKv_KkJ",
        "outputId": "e2512fae-8323-48e3-da0c-0c1b508a3e77"
      },
      "execution_count": 35,
      "outputs": [
        {
          "output_type": "stream",
          "name": "stdout",
          "text": [
            "+-------------------+----+--------------+---------------+-----+---------+------------+--------------------+--------------------+-----+------------+--------------------+\n",
            "|              Names| Age|Total_Purchase|Account_Manager|Years|Num_Sites|Onboard_date|            Location|             Company|Churn|Days_onboard|            features|\n",
            "+-------------------+----+--------------+---------------+-----+---------+------------+--------------------+--------------------+-----+------------+--------------------+\n",
            "|   Cameron Williams|42.0|       11066.8|              0| 7.22|      8.0|  2013-08-30|10265 Elizabeth M...|          Harvey LLC|    1|      4155.0|[42.0,11066.8,7.2...|\n",
            "|      Kevin Mueller|41.0|      11916.22|              0|  6.5|     11.0|  2013-08-13|6157 Frank Garden...|          Wilson PLC|    1|      4172.0|[41.0,11916.22,6....|\n",
            "|        Eric Lozano|38.0|      12884.75|              0| 6.67|     12.0|  2016-06-29|1331 Keith Court ...|Miller, Johnson a...|    1|      3121.0|[38.0,12884.75,6....|\n",
            "|      Phillip White|42.0|       8010.76|              0| 6.71|     10.0|  2014-04-22|13120 Daniel Moun...|           Smith Inc|    1|      3920.0|[42.0,8010.76,6.7...|\n",
            "|     Cynthia Norton|37.0|       9191.58|              0| 5.56|      9.0|  2016-01-19|765 Tricia Row Ka...|          Love-Jones|    1|      3283.0|[37.0,9191.58,5.5...|\n",
            "|   Jessica Williams|48.0|      10356.02|              0| 5.12|      8.0|  2009-03-03|6187 Olson Mounta...|        Kelly-Warren|    1|      5796.0|[48.0,10356.02,5....|\n",
            "|        Eric Butler|44.0|      11331.58|              1| 5.23|     11.0|  2016-12-05|4846 Savannah Roa...|   Reynolds-Sheppard|    1|      2962.0|[44.0,11331.58,5....|\n",
            "|      Zachary Walsh|32.0|       9885.12|              1| 6.92|      9.0|  2006-03-09|25271 Roy Express...|          Singh-Cole|    1|      6886.0|[32.0,9885.12,6.9...|\n",
            "|        Ashlee Carr|43.0|       14062.6|              1| 5.46|     11.0|  2011-09-29|3725 Caroline Str...|           Lopez PLC|    1|      4856.0|[43.0,14062.6,5.4...|\n",
            "|     Jennifer Lynch|40.0|       8066.94|              1| 7.11|     11.0|  2006-03-28|363 Sandra Lodge ...|       Reed-Martinez|    1|      6867.0|[40.0,8066.94,7.1...|\n",
            "|       Paula Harris|30.0|      11575.37|              1| 5.22|      8.0|  2016-11-13|Unit 8120 Box 916...|Briggs, Lamb and ...|    1|      2984.0|[30.0,11575.37,5....|\n",
            "|     Bruce Phillips|45.0|       8771.02|              1| 6.64|     11.0|  2015-05-28|Unit 1895 Box 094...|    Figueroa-Maynard|    1|      3519.0|[45.0,8771.02,6.6...|\n",
            "|       Craig Garner|45.0|       8988.67|              1| 4.84|     11.0|  2011-02-16|897 Kelley Overpa...|     Abbott-Thompson|    1|      5081.0|[45.0,8988.67,4.8...|\n",
            "|       Nicole Olson|40.0|       8283.32|              1|  5.1|     13.0|  2012-11-22|11488 Weaver Cape...|Smith, Kim and Ma...|    1|      4436.0|[40.0,8283.32,5.1...|\n",
            "|     Harold Griffin|41.0|       6569.87|              1|  4.3|     11.0|  2015-03-28|1774 Peter Row Ap...|Snyder, Lee and M...|    1|      3580.0|[41.0,6569.87,4.3...|\n",
            "|       James Wright|38.0|      10494.82|              1| 6.81|     12.0|  2015-07-22|45408 David Path ...|      Sanders-Pierce|    1|      3464.0|[38.0,10494.82,6....|\n",
            "|      Doris Wilkins|45.0|       8213.41|              1| 7.35|     11.0|  2006-09-03|28216 Wright Moun...|Andrews, Adams an...|    1|      6708.0|[45.0,8213.41,7.3...|\n",
            "|Katherine Carpenter|43.0|      11226.88|              0| 8.08|     12.0|  2006-10-22|Unit 4948 Box 481...|Morgan, Phillips ...|    1|      6659.0|[43.0,11226.88,8....|\n",
            "|     Lindsay Martin|53.0|       5515.09|              0| 6.85|      8.0|  2015-10-07|69203 Crosby Divi...|      Villanueva LLC|    1|      3387.0|[53.0,5515.09,6.8...|\n",
            "|        Kathy Curry|46.0|        8046.4|              1| 5.69|      8.0|  2014-11-06|9569 Caldwell Cre...|Berry, Orr and Ca...|    1|      3722.0|[46.0,8046.4,5.69...|\n",
            "+-------------------+----+--------------+---------------+-----+---------+------------+--------------------+--------------------+-----+------------+--------------------+\n",
            "only showing top 20 rows\n",
            "\n"
          ]
        }
      ]
    },
    {
      "cell_type": "code",
      "source": [
        "from pyspark.ml.feature import VectorAssembler\n",
        "feature_cols= [\"Age\", \"Total_Purchase\", \"Years\", \"Num_Sites\", \"Days_onboard\",\"Account_Manager\"]\n",
        "assembler = VectorAssembler(inputCols = feature_cols, outputCol= 'features2')\n",
        "output = assembler.transform(new_customers_data)\n",
        "data = data.withColumnRenamed(\"features\", \"features2\")\n",
        "final_data = output.select(\"features2\",\"Churn\")\n",
        "final_data.show()"
      ],
      "metadata": {
        "colab": {
          "base_uri": "https://localhost:8080/"
        },
        "id": "VnXqGJYoA5EC",
        "outputId": "86767a1e-1ae1-4b6e-8fe5-93be2c0c6c54"
      },
      "execution_count": 40,
      "outputs": [
        {
          "output_type": "stream",
          "name": "stdout",
          "text": [
            "+--------------------+-----+\n",
            "|           features2|Churn|\n",
            "+--------------------+-----+\n",
            "|[42.0,11066.8,7.2...|    1|\n",
            "|[41.0,11916.22,6....|    1|\n",
            "|[38.0,12884.75,6....|    1|\n",
            "|[42.0,8010.76,6.7...|    1|\n",
            "|[37.0,9191.58,5.5...|    1|\n",
            "|[48.0,10356.02,5....|    1|\n",
            "|[44.0,11331.58,5....|    1|\n",
            "|[32.0,9885.12,6.9...|    1|\n",
            "|[43.0,14062.6,5.4...|    1|\n",
            "|[40.0,8066.94,7.1...|    1|\n",
            "|[30.0,11575.37,5....|    1|\n",
            "|[45.0,8771.02,6.6...|    1|\n",
            "|[45.0,8988.67,4.8...|    1|\n",
            "|[40.0,8283.32,5.1...|    1|\n",
            "|[41.0,6569.87,4.3...|    1|\n",
            "|[38.0,10494.82,6....|    1|\n",
            "|[45.0,8213.41,7.3...|    1|\n",
            "|[43.0,11226.88,8....|    1|\n",
            "|[53.0,5515.09,6.8...|    1|\n",
            "|[46.0,8046.4,5.69...|    1|\n",
            "+--------------------+-----+\n",
            "only showing top 20 rows\n",
            "\n"
          ]
        }
      ]
    },
    {
      "cell_type": "code",
      "source": [
        "new_customers = assembler.transform(new_customers_data)\n",
        "new_customers.printSchema()\n"
      ],
      "metadata": {
        "colab": {
          "base_uri": "https://localhost:8080/"
        },
        "id": "oyVhLbdL9Pxp",
        "outputId": "db44bf07-3921-4d78-a413-87cb6ea68363"
      },
      "execution_count": 41,
      "outputs": [
        {
          "output_type": "stream",
          "name": "stdout",
          "text": [
            "root\n",
            " |-- Names: string (nullable = true)\n",
            " |-- Age: double (nullable = true)\n",
            " |-- Total_Purchase: double (nullable = true)\n",
            " |-- Account_Manager: integer (nullable = true)\n",
            " |-- Years: double (nullable = true)\n",
            " |-- Num_Sites: double (nullable = true)\n",
            " |-- Onboard_date: date (nullable = true)\n",
            " |-- Location: string (nullable = true)\n",
            " |-- Company: string (nullable = true)\n",
            " |-- Churn: integer (nullable = true)\n",
            " |-- Days_onboard: double (nullable = true)\n",
            " |-- features: vector (nullable = true)\n",
            " |-- features2: vector (nullable = true)\n",
            "\n"
          ]
        }
      ]
    },
    {
      "cell_type": "code",
      "source": [
        "train1_data, test1_data = final_data.randomSplit([0.8,0.2])"
      ],
      "metadata": {
        "id": "IH2siBp3-UWa"
      },
      "execution_count": 42,
      "outputs": []
    },
    {
      "cell_type": "code",
      "source": [
        "from pyspark.ml.classification import LogisticRegression\n",
        "\n",
        "lr = LogisticRegression(featuresCol='features2', labelCol='Churn')\n",
        "lrm= lr.fit(train1_data)\n",
        "lrm_summary = lrm.summary\n",
        "lrm.summary.accuracy"
      ],
      "metadata": {
        "colab": {
          "base_uri": "https://localhost:8080/"
        },
        "id": "PWzGUPP-CqsG",
        "outputId": "296e5672-0610-4757-d4c8-875cb07b65a8"
      },
      "execution_count": 44,
      "outputs": [
        {
          "output_type": "execute_result",
          "data": {
            "text/plain": [
              "0.8871428571428571"
            ]
          },
          "metadata": {},
          "execution_count": 44
        }
      ]
    },
    {
      "cell_type": "code",
      "source": [
        "lrm.summary.areaUnderROC"
      ],
      "metadata": {
        "colab": {
          "base_uri": "https://localhost:8080/"
        },
        "id": "S0g17xjjDAgf",
        "outputId": "c72c46b0-4b3a-4035-c772-3a84edb75c47"
      },
      "execution_count": 45,
      "outputs": [
        {
          "output_type": "execute_result",
          "data": {
            "text/plain": [
              "0.9049899193548473"
            ]
          },
          "metadata": {},
          "execution_count": 45
        }
      ]
    },
    {
      "cell_type": "code",
      "source": [
        "lrm.summary.predictions.show()"
      ],
      "metadata": {
        "colab": {
          "base_uri": "https://localhost:8080/"
        },
        "id": "p3FlfP4kDXie",
        "outputId": "a6a3eecd-a8f2-4fb4-a0ea-d8ba3add6190"
      },
      "execution_count": 47,
      "outputs": [
        {
          "output_type": "stream",
          "name": "stdout",
          "text": [
            "+--------------------+-----+--------------------+--------------------+----------+\n",
            "|           features2|Churn|       rawPrediction|         probability|prediction|\n",
            "+--------------------+-----+--------------------+--------------------+----------+\n",
            "|[22.0,11254.38,4....|  0.0|[4.03509698508933...|[0.98262332358752...|       0.0|\n",
            "|[25.0,9672.03,5.4...|  0.0|[4.12159417418358...|[0.98404020761574...|       0.0|\n",
            "|[26.0,8787.39,5.4...|  1.0|[0.16240421981829...|[0.54051205151763...|       0.0|\n",
            "|[26.0,8939.61,4.5...|  0.0|[5.81893471512175...|[0.99703803114866...|       0.0|\n",
            "|[27.0,8628.8,5.3,...|  0.0|[4.89642907369241...|[0.99258221296333...|       0.0|\n",
            "|[28.0,8670.98,3.9...|  0.0|[7.22543057123936...|[0.99927269027940...|       0.0|\n",
            "|[28.0,9090.43,5.7...|  0.0|[1.07107483521335...|[0.74480126602091...|       0.0|\n",
            "|[28.0,11128.95,5....|  0.0|[3.69753687901405...|[0.97581491659769...|       0.0|\n",
            "|[28.0,11204.23,3....|  0.0|[1.55389128819874...|[0.82547504434777...|       0.0|\n",
            "|[28.0,11245.38,6....|  0.0|[3.37683628536693...|[0.96697271642010...|       0.0|\n",
            "|[29.0,5900.78,5.5...|  0.0|[3.47370608184707...|[0.96993029675770...|       0.0|\n",
            "|[29.0,8688.17,5.7...|  1.0|[2.23989777023068...|[0.90377556821469...|       0.0|\n",
            "|[29.0,9378.24,4.9...|  0.0|[4.36926452556602...|[0.98749773685631...|       0.0|\n",
            "|[29.0,9617.59,5.4...|  0.0|[4.02940952041724...|[0.98252594464464...|       0.0|\n",
            "|[29.0,11274.46,4....|  0.0|[4.08792726895139...|[0.98350275868592...|       0.0|\n",
            "|[29.0,13255.05,4....|  0.0|[3.81400146277241...|[0.97841639754035...|       0.0|\n",
            "|[30.0,6744.87,5.1...|  0.0|[3.06772425267306...|[0.95554159460521...|       0.0|\n",
            "|[30.0,7960.64,2.7...|  1.0|[2.73706186431579...|[0.93917848013354...|       0.0|\n",
            "|[30.0,8403.78,4.1...|  0.0|[5.37330171871392...|[0.99538262899642...|       0.0|\n",
            "|[30.0,10744.14,7....|  1.0|[1.29617544871464...|[0.78519061369101...|       0.0|\n",
            "+--------------------+-----+--------------------+--------------------+----------+\n",
            "only showing top 20 rows\n",
            "\n"
          ]
        }
      ]
    }
  ]
}